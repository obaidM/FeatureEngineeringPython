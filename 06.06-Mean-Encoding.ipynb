{
 "cells": [
  {
   "cell_type": "markdown",
   "metadata": {},
   "source": [
    "## Target guided encodings\n",
    "Create a feature that has the following:\n",
    "\n",
    "- the encoding is **guided by the target**, and\n",
    "- they create a **monotonic relationship** between the variable and the target.\n",
    "\n",
    "\n",
    "### Monotonicity\n",
    "\n",
    "A monotonic relationship is a relationship that does one of the following:\n",
    "\n",
    "- (1) as the value of one variable increases, so does the value of the other variable; or\n",
    "- (2) as the value of one variable increases, the value of the other variable decreases.\n",
    "\n",
    "In this case, as the value of the independent variable (predictor) increases, so does the target, or conversely, as the value of the variable increases, the target value decreases.\n",
    "\n",
    "\n",
    "\n",
    "### Advantages of target guided encodings\n",
    "\n",
    "- Capture information within the category, therefore creating more predictive features\n",
    "- Create a monotonic relationship between the variable and the target, therefore suitable for linear models\n",
    "- Do not expand the feature space\n",
    "\n",
    "\n",
    "### Limitations\n",
    "\n",
    "- Prone to cause over-fitting\n",
    "- Difficult to cross-validate with current libraries\n",
    "\n",
    "\n",
    "### Note\n",
    "\n",
    "The methods discussed in this and the coming 3 lectures can be also used on numerical variables, after discretisation. This creates a monotonic relationship between the numerical variable and the target, and therefore improves the performance of linear models. I will discuss this in more detail in the section \"Discretisation\".\n",
    "\n",
    "===============================================================================\n",
    "\n",
    "## Mean Encoding or Target Encoding\n",
    "\n",
    "Mean encoding implies replacing the category by the average target value for that category. For example, if we have the variable city, with categories London, Manchester and Bristol, and we want to predict the default rate, if the default rate for London is 30% we replace London by 0.3, if the default rate for Manchester is 20% we replace Manchester by 0.2 and so on.\n",
    "\n",
    "\n",
    "## In this demo:\n",
    "\n",
    "We will see how to perform one hot encoding with:\n",
    "- pandas\n",
    "- Feature-Engine\n",
    "\n",
    "And the advantages and limitations of each implementation using the Titanic dataset."
   ]
  },
  {
   "cell_type": "code",
   "execution_count": 3,
   "metadata": {},
   "outputs": [],
   "source": [
    "import numpy as np\n",
    "import pandas as pd\n",
    "\n",
    "import matplotlib.pyplot as plt\n",
    "\n",
    "# to split the datasets\n",
    "from sklearn.model_selection import train_test_split\n",
    "\n",
    "# for encoding with feature-engine\n",
    "from feature_engine.categorical_encoders import MeanCategoricalEncoder"
   ]
  },
  {
   "cell_type": "code",
   "execution_count": 4,
   "metadata": {},
   "outputs": [
    {
     "data": {
      "text/html": [
       "<div>\n",
       "<style scoped>\n",
       "    .dataframe tbody tr th:only-of-type {\n",
       "        vertical-align: middle;\n",
       "    }\n",
       "\n",
       "    .dataframe tbody tr th {\n",
       "        vertical-align: top;\n",
       "    }\n",
       "\n",
       "    .dataframe thead th {\n",
       "        text-align: right;\n",
       "    }\n",
       "</style>\n",
       "<table border=\"1\" class=\"dataframe\">\n",
       "  <thead>\n",
       "    <tr style=\"text-align: right;\">\n",
       "      <th></th>\n",
       "      <th>cabin</th>\n",
       "      <th>sex</th>\n",
       "      <th>embarked</th>\n",
       "      <th>survived</th>\n",
       "    </tr>\n",
       "  </thead>\n",
       "  <tbody>\n",
       "    <tr>\n",
       "      <th>0</th>\n",
       "      <td>NaN</td>\n",
       "      <td>male</td>\n",
       "      <td>S</td>\n",
       "      <td>0.0</td>\n",
       "    </tr>\n",
       "    <tr>\n",
       "      <th>1</th>\n",
       "      <td>C85</td>\n",
       "      <td>female</td>\n",
       "      <td>C</td>\n",
       "      <td>1.0</td>\n",
       "    </tr>\n",
       "    <tr>\n",
       "      <th>2</th>\n",
       "      <td>NaN</td>\n",
       "      <td>female</td>\n",
       "      <td>S</td>\n",
       "      <td>1.0</td>\n",
       "    </tr>\n",
       "    <tr>\n",
       "      <th>3</th>\n",
       "      <td>C123</td>\n",
       "      <td>female</td>\n",
       "      <td>S</td>\n",
       "      <td>1.0</td>\n",
       "    </tr>\n",
       "    <tr>\n",
       "      <th>4</th>\n",
       "      <td>NaN</td>\n",
       "      <td>male</td>\n",
       "      <td>S</td>\n",
       "      <td>0.0</td>\n",
       "    </tr>\n",
       "  </tbody>\n",
       "</table>\n",
       "</div>"
      ],
      "text/plain": [
       "  cabin     sex embarked  survived\n",
       "0   NaN    male        S       0.0\n",
       "1   C85  female        C       1.0\n",
       "2   NaN  female        S       1.0\n",
       "3  C123  female        S       1.0\n",
       "4   NaN    male        S       0.0"
      ]
     },
     "execution_count": 4,
     "metadata": {},
     "output_type": "execute_result"
    }
   ],
   "source": [
    "# load dataset\n",
    "\n",
    "df1 = pd.read_csv('tit_train.csv')\n",
    "df2 = pd.read_csv('tit_test.csv')\n",
    "\n",
    "data= df1.append(df2)\n",
    "data.columns = map(str.lower, data.columns)\n",
    "\n",
    "\n",
    "usecols=['cabin', 'sex', 'embarked', 'survived']\n",
    "\n",
    "data = data[usecols]\n",
    "\n",
    "data.head()"
   ]
  },
  {
   "cell_type": "code",
   "execution_count": 5,
   "metadata": {},
   "outputs": [],
   "source": [
    "# let's fill na in embarked\n",
    "\n",
    "data['embarked'].fillna('Missing', inplace=True)"
   ]
  },
  {
   "cell_type": "code",
   "execution_count": 6,
   "metadata": {},
   "outputs": [],
   "source": [
    "# Now we extract the first letter of the cabin\n",
    "# to create a simpler variable for the demo\n",
    "\n",
    "data['cabin'] = data['cabin'].astype(str).str[0]"
   ]
  },
  {
   "cell_type": "code",
   "execution_count": 7,
   "metadata": {},
   "outputs": [
    {
     "name": "stdout",
     "output_type": "stream",
     "text": [
      "cabin :  9  labels\n",
      "sex :  2  labels\n",
      "embarked :  4  labels\n",
      "survived :  3  labels\n"
     ]
    }
   ],
   "source": [
    "# let's have a look at how many labels each variable has\n",
    "\n",
    "for col in data.columns:\n",
    "    print(col, ': ', len(data[col].unique()), ' labels')"
   ]
  },
  {
   "cell_type": "code",
   "execution_count": 8,
   "metadata": {},
   "outputs": [
    {
     "data": {
      "text/plain": [
       "array(['n', 'C', 'E', 'G', 'D', 'A', 'B', 'F', 'T'], dtype=object)"
      ]
     },
     "execution_count": 8,
     "metadata": {},
     "output_type": "execute_result"
    }
   ],
   "source": [
    "# let's explore the unique categories\n",
    "\n",
    "data['cabin'].unique()"
   ]
  },
  {
   "cell_type": "code",
   "execution_count": 9,
   "metadata": {},
   "outputs": [
    {
     "data": {
      "text/plain": [
       "array(['male', 'female'], dtype=object)"
      ]
     },
     "execution_count": 9,
     "metadata": {},
     "output_type": "execute_result"
    }
   ],
   "source": [
    "data['sex'].unique()"
   ]
  },
  {
   "cell_type": "code",
   "execution_count": 10,
   "metadata": {},
   "outputs": [
    {
     "data": {
      "text/plain": [
       "array(['S', 'C', 'Q', 'Missing'], dtype=object)"
      ]
     },
     "execution_count": 10,
     "metadata": {},
     "output_type": "execute_result"
    }
   ],
   "source": [
    "data['embarked'].unique()"
   ]
  },
  {
   "cell_type": "markdown",
   "metadata": {},
   "source": [
    "### Encoding important\n",
    "\n",
    "We calculate the target mean per category using the train set, and then use those mappings in the test set.\n",
    "\n",
    "Note that for the pandas implementation we need to keep the target in the training set:"
   ]
  },
  {
   "cell_type": "code",
   "execution_count": 11,
   "metadata": {},
   "outputs": [
    {
     "data": {
      "text/plain": [
       "((916, 4), (393, 4))"
      ]
     },
     "execution_count": 11,
     "metadata": {},
     "output_type": "execute_result"
    }
   ],
   "source": [
    "# let's separate into training and testing set\n",
    "\n",
    "X_train, X_test, y_train, y_test = train_test_split(\n",
    "    data[['cabin', 'sex', 'embarked', 'survived']],  # this time we keep the target!!\n",
    "    data['survived'],  # target\n",
    "    test_size=0.3,  # percentage of obs in test set\n",
    "    random_state=0)  # seed to ensure reproducibility\n",
    "\n",
    "X_train.shape, X_test.shape"
   ]
  },
  {
   "cell_type": "markdown",
   "metadata": {},
   "source": [
    "### Explore original relationship between categorical variables and target"
   ]
  },
  {
   "cell_type": "code",
   "execution_count": 12,
   "metadata": {},
   "outputs": [
    {
     "data": {
      "image/png": "[encoded data removed]",
      "text/plain": [
       "<Figure size 432x288 with 1 Axes>"
      ]
     },
     "metadata": {
      "needs_background": "light"
     },
     "output_type": "display_data"
    },
    {
     "data": {
      "image/png": "[encoded data removed]",
      "text/plain": [
       "<Figure size 432x288 with 1 Axes>"
      ]
     },
     "metadata": {
      "needs_background": "light"
     },
     "output_type": "display_data"
    },
    {
     "data": {
      "image/png": "[encoded data removed]",
      "text/plain": [
       "<Figure size 432x288 with 1 Axes>"
      ]
     },
     "metadata": {
      "needs_background": "light"
     },
     "output_type": "display_data"
    }
   ],
   "source": [
    "# let's explore the relationship of the categories with the target\n",
    "\n",
    "for var in ['cabin', 'sex', 'embarked']:\n",
    "    \n",
    "    fig = plt.figure()\n",
    "    fig = X_train.groupby([var])['survived'].mean().plot()  ### find mean in target class per category \n",
    "    fig.set_title('Relationship between {} and Survival'.format(var))\n",
    "    fig.set_ylabel('Mean Survival')\n",
    "    plt.show()"
   ]
  },
  {
   "cell_type": "markdown",
   "metadata": {},
   "source": [
    "You can see that the relationship between the target and cabin and embarked goes up and down, depending on the category.\n",
    "\n",
    "\n",
    "## Mean encoding with pandas\n",
    "\n",
    "\n",
    "### Advantages\n",
    "\n",
    "- quick\n",
    "- returns pandas dataframe\n",
    "\n",
    "### Limitations of pandas:\n",
    "\n",
    "- it does not preserve information from train data to propagate to test data\n",
    "\n",
    "We need to store the mappings separately if planning to use the model in production."
   ]
  },
  {
   "cell_type": "code",
   "execution_count": 13,
   "metadata": {},
   "outputs": [
    {
     "data": {
      "text/plain": [
       "cabin\n",
       "A    0.428571\n",
       "B    0.714286\n",
       "C    0.526316\n",
       "D    0.739130\n",
       "E    0.791667\n",
       "F    0.600000\n",
       "G    0.500000\n",
       "T    0.000000\n",
       "n    0.276423\n",
       "Name: survived, dtype: float64"
      ]
     },
     "execution_count": 13,
     "metadata": {},
     "output_type": "execute_result"
    }
   ],
   "source": [
    "# let's calculate the mean target value per category for cabin\n",
    "\n",
    "X_train.groupby(['cabin'])['survived'].mean()"
   ]
  },
  {
   "cell_type": "code",
   "execution_count": 14,
   "metadata": {},
   "outputs": [
    {
     "data": {
      "text/plain": [
       "{'A': 0.42857142857142855,\n",
       " 'B': 0.7142857142857143,\n",
       " 'C': 0.5263157894736842,\n",
       " 'D': 0.7391304347826086,\n",
       " 'E': 0.7916666666666666,\n",
       " 'F': 0.6,\n",
       " 'G': 0.5,\n",
       " 'T': 0.0,\n",
       " 'n': 0.2764227642276423}"
      ]
     },
     "execution_count": 14,
     "metadata": {},
     "output_type": "execute_result"
    }
   ],
   "source": [
    "# and now let's do the same but capturing the result in a dictionary\n",
    "\n",
    "ordered_labels = X_train.groupby(['cabin'])['survived'].mean().to_dict()\n",
    "\n",
    "ordered_labels"
   ]
  },
  {
   "cell_type": "code",
   "execution_count": 15,
   "metadata": {},
   "outputs": [],
   "source": [
    "# now, we replace the labels with the target means\n",
    "\n",
    "X_train['cabin'] = X_train['cabin'].map(ordered_labels)\n",
    "X_test['cabin'] = X_test['cabin'].map(ordered_labels)"
   ]
  },
  {
   "cell_type": "code",
   "execution_count": 16,
   "metadata": {},
   "outputs": [
    {
     "data": {
      "text/plain": [
       "501    0.276423\n",
       "588    0.276423\n",
       "402    0.276423\n",
       "302    0.276423\n",
       "686    0.276423\n",
       "80     0.276423\n",
       "117    0.276423\n",
       "540    0.714286\n",
       "294    0.276423\n",
       "261    0.276423\n",
       "Name: cabin, dtype: float64"
      ]
     },
     "execution_count": 16,
     "metadata": {},
     "output_type": "execute_result"
    }
   ],
   "source": [
    "# let's explore the result\n",
    "\n",
    "X_train['cabin'].head(10)"
   ]
  },
  {
   "cell_type": "code",
   "execution_count": 17,
   "metadata": {},
   "outputs": [],
   "source": [
    "# we can turn the previous commands into 2 functions\n",
    "\n",
    "\n",
    "def find_category_mappings(df, variable, target):\n",
    "    return df.groupby([variable])[target].mean().to_dict()\n",
    "\n",
    "\n",
    "def integer_encode(train, test, variable, ordinal_mapping):\n",
    "\n",
    "    X_train[variable] = X_train[variable].map(ordinal_mapping)\n",
    "    X_test[variable] = X_test[variable].map(ordinal_mapping)"
   ]
  },
  {
   "cell_type": "code",
   "execution_count": 18,
   "metadata": {},
   "outputs": [],
   "source": [
    "# and now we run a loop over the remaining categorical variables\n",
    "\n",
    "for variable in ['sex', 'embarked']:\n",
    "    mappings = find_category_mappings(X_train, variable, 'survived')\n",
    "    integer_encode(X_train, X_test, variable, mappings)"
   ]
  },
  {
   "cell_type": "code",
   "execution_count": 19,
   "metadata": {},
   "outputs": [
    {
     "data": {
      "text/html": [
       "<div>\n",
       "<style scoped>\n",
       "    .dataframe tbody tr th:only-of-type {\n",
       "        vertical-align: middle;\n",
       "    }\n",
       "\n",
       "    .dataframe tbody tr th {\n",
       "        vertical-align: top;\n",
       "    }\n",
       "\n",
       "    .dataframe thead th {\n",
       "        text-align: right;\n",
       "    }\n",
       "</style>\n",
       "<table border=\"1\" class=\"dataframe\">\n",
       "  <thead>\n",
       "    <tr style=\"text-align: right;\">\n",
       "      <th></th>\n",
       "      <th>cabin</th>\n",
       "      <th>sex</th>\n",
       "      <th>embarked</th>\n",
       "      <th>survived</th>\n",
       "    </tr>\n",
       "  </thead>\n",
       "  <tbody>\n",
       "    <tr>\n",
       "      <th>501</th>\n",
       "      <td>0.276423</td>\n",
       "      <td>0.712121</td>\n",
       "      <td>0.301887</td>\n",
       "      <td>0.0</td>\n",
       "    </tr>\n",
       "    <tr>\n",
       "      <th>588</th>\n",
       "      <td>0.276423</td>\n",
       "      <td>0.193548</td>\n",
       "      <td>0.313725</td>\n",
       "      <td>0.0</td>\n",
       "    </tr>\n",
       "    <tr>\n",
       "      <th>402</th>\n",
       "      <td>0.276423</td>\n",
       "      <td>0.712121</td>\n",
       "      <td>0.313725</td>\n",
       "      <td>0.0</td>\n",
       "    </tr>\n",
       "    <tr>\n",
       "      <th>302</th>\n",
       "      <td>0.276423</td>\n",
       "      <td>0.193548</td>\n",
       "      <td>0.313725</td>\n",
       "      <td>NaN</td>\n",
       "    </tr>\n",
       "    <tr>\n",
       "      <th>686</th>\n",
       "      <td>0.276423</td>\n",
       "      <td>0.193548</td>\n",
       "      <td>0.313725</td>\n",
       "      <td>0.0</td>\n",
       "    </tr>\n",
       "  </tbody>\n",
       "</table>\n",
       "</div>"
      ],
      "text/plain": [
       "        cabin       sex  embarked  survived\n",
       "501  0.276423  0.712121  0.301887       0.0\n",
       "588  0.276423  0.193548  0.313725       0.0\n",
       "402  0.276423  0.712121  0.313725       0.0\n",
       "302  0.276423  0.193548  0.313725       NaN\n",
       "686  0.276423  0.193548  0.313725       0.0"
      ]
     },
     "execution_count": 19,
     "metadata": {},
     "output_type": "execute_result"
    }
   ],
   "source": [
    "# let's see the result\n",
    "\n",
    "X_train.head()"
   ]
  },
  {
   "cell_type": "code",
   "execution_count": 20,
   "metadata": {},
   "outputs": [
    {
     "data": {
      "image/png": "[encoded data removed]",
      "text/plain": [
       "<Figure size 432x288 with 1 Axes>"
      ]
     },
     "metadata": {
      "needs_background": "light"
     },
     "output_type": "display_data"
    },
    {
     "data": {
      "image/png": "[encoded data removed]",
      "text/plain": [
       "<Figure size 432x288 with 1 Axes>"
      ]
     },
     "metadata": {
      "needs_background": "light"
     },
     "output_type": "display_data"
    },
    {
     "data": {
      "image/png": "[encoded data removed]",
      "text/plain": [
       "<Figure size 432x288 with 1 Axes>"
      ]
     },
     "metadata": {
      "needs_background": "light"
     },
     "output_type": "display_data"
    }
   ],
   "source": [
    "# let's inspect the newly created monotonic relationship\n",
    "# between the variables and the target\n",
    "\n",
    "for var in ['cabin', 'sex', 'embarked']:\n",
    "    \n",
    "    fig = plt.figure()\n",
    "    fig = X_train.groupby([var])['survived'].mean().plot()\n",
    "    fig.set_title('Monotonic relationship between {} and Survival'.format(var))\n",
    "    fig.set_ylabel('Mean Survived')\n",
    "    plt.show()"
   ]
  },
  {
   "cell_type": "markdown",
   "metadata": {},
   "source": [
    "Mean Encoding creates linear relationships between the mean target and the categories.\n",
    "\n",
    "### Note\n",
    "\n",
    "Replacing categorical labels with this code and method will generate missing values for categories present in the test set that were not seen in the training set. Therefore it is extremely important to handle rare labels before-hand. I will explain how to do this, in a later notebook."
   ]
  },
  {
   "cell_type": "markdown",
   "metadata": {},
   "source": [
    "## Mean Encoding with Feature-Engine\n",
    "\n",
    "If using Feature-Engine, instead of pandas, we do not need to keep the target variable in the training dataset."
   ]
  },
  {
   "cell_type": "code",
   "execution_count": 21,
   "metadata": {},
   "outputs": [
    {
     "data": {
      "text/plain": [
       "((916, 3), (393, 3))"
      ]
     },
     "execution_count": 21,
     "metadata": {},
     "output_type": "execute_result"
    }
   ],
   "source": [
    "# let's separate into training and testing set\n",
    "\n",
    "X_train, X_test, y_train, y_test = train_test_split(\n",
    "    data[['cabin', 'sex', 'embarked']],  # predictors\n",
    "    data['survived'],  # target\n",
    "    test_size=0.3,  # percentage of obs in test set\n",
    "    random_state=0)  # seed to ensure reproducibility\n",
    "\n",
    "X_train.shape, X_test.shape"
   ]
  },
  {
   "cell_type": "code",
   "execution_count": 22,
   "metadata": {},
   "outputs": [],
   "source": [
    "mean_enc = MeanCategoricalEncoder(\n",
    "    variables=['cabin', 'sex', 'embarked'])"
   ]
  },
  {
   "cell_type": "code",
   "execution_count": 23,
   "metadata": {},
   "outputs": [
    {
     "data": {
      "text/plain": [
       "MeanCategoricalEncoder(variables=['cabin', 'sex', 'embarked'])"
      ]
     },
     "execution_count": 23,
     "metadata": {},
     "output_type": "execute_result"
    }
   ],
   "source": [
    "# when fitting the transformer, we need to pass the target as well\n",
    "# just like with any Scikit-learn predictor class\n",
    "\n",
    "mean_enc.fit(X_train, y_train)"
   ]
  },
  {
   "cell_type": "code",
   "execution_count": 24,
   "metadata": {
    "scrolled": true
   },
   "outputs": [
    {
     "data": {
      "text/plain": [
       "{'cabin': {'A': 0.42857142857142855,\n",
       "  'B': 0.7142857142857143,\n",
       "  'C': 0.5263157894736842,\n",
       "  'D': 0.7391304347826086,\n",
       "  'E': 0.7916666666666666,\n",
       "  'F': 0.6,\n",
       "  'G': 0.5,\n",
       "  'T': 0.0,\n",
       "  'n': 0.2764227642276423},\n",
       " 'sex': {'female': 0.7121212121212122, 'male': 0.1935483870967742},\n",
       " 'embarked': {'C': 0.5378151260504201,\n",
       "  'Missing': 1.0,\n",
       "  'Q': 0.3018867924528302,\n",
       "  'S': 0.3137254901960784}}"
      ]
     },
     "execution_count": 24,
     "metadata": {},
     "output_type": "execute_result"
    }
   ],
   "source": [
    "# in the encoder dict we see the target mean assigned to each\n",
    "# category for each of the selected variables\n",
    "\n",
    "mean_enc.encoder_dict_"
   ]
  },
  {
   "cell_type": "code",
   "execution_count": 25,
   "metadata": {},
   "outputs": [
    {
     "data": {
      "text/plain": [
       "['cabin', 'sex', 'embarked']"
      ]
     },
     "execution_count": 25,
     "metadata": {},
     "output_type": "execute_result"
    }
   ],
   "source": [
    "# this is the list of variables that the encoder will transform\n",
    "\n",
    "mean_enc.variables"
   ]
  },
  {
   "cell_type": "code",
   "execution_count": 26,
   "metadata": {},
   "outputs": [
    {
     "data": {
      "text/html": [
       "<div>\n",
       "<style scoped>\n",
       "    .dataframe tbody tr th:only-of-type {\n",
       "        vertical-align: middle;\n",
       "    }\n",
       "\n",
       "    .dataframe tbody tr th {\n",
       "        vertical-align: top;\n",
       "    }\n",
       "\n",
       "    .dataframe thead th {\n",
       "        text-align: right;\n",
       "    }\n",
       "</style>\n",
       "<table border=\"1\" class=\"dataframe\">\n",
       "  <thead>\n",
       "    <tr style=\"text-align: right;\">\n",
       "      <th></th>\n",
       "      <th>cabin</th>\n",
       "      <th>sex</th>\n",
       "      <th>embarked</th>\n",
       "    </tr>\n",
       "  </thead>\n",
       "  <tbody>\n",
       "    <tr>\n",
       "      <th>501</th>\n",
       "      <td>0.276423</td>\n",
       "      <td>0.712121</td>\n",
       "      <td>0.301887</td>\n",
       "    </tr>\n",
       "    <tr>\n",
       "      <th>588</th>\n",
       "      <td>0.276423</td>\n",
       "      <td>0.193548</td>\n",
       "      <td>0.313725</td>\n",
       "    </tr>\n",
       "    <tr>\n",
       "      <th>402</th>\n",
       "      <td>0.276423</td>\n",
       "      <td>0.712121</td>\n",
       "      <td>0.313725</td>\n",
       "    </tr>\n",
       "    <tr>\n",
       "      <th>302</th>\n",
       "      <td>0.276423</td>\n",
       "      <td>0.193548</td>\n",
       "      <td>0.313725</td>\n",
       "    </tr>\n",
       "    <tr>\n",
       "      <th>686</th>\n",
       "      <td>0.276423</td>\n",
       "      <td>0.193548</td>\n",
       "      <td>0.313725</td>\n",
       "    </tr>\n",
       "  </tbody>\n",
       "</table>\n",
       "</div>"
      ],
      "text/plain": [
       "        cabin       sex  embarked\n",
       "501  0.276423  0.712121  0.301887\n",
       "588  0.276423  0.193548  0.313725\n",
       "402  0.276423  0.712121  0.313725\n",
       "302  0.276423  0.193548  0.313725\n",
       "686  0.276423  0.193548  0.313725"
      ]
     },
     "execution_count": 26,
     "metadata": {},
     "output_type": "execute_result"
    }
   ],
   "source": [
    "X_train = mean_enc.transform(X_train)\n",
    "X_test = mean_enc.transform(X_test)\n",
    "\n",
    "# let's explore the result\n",
    "X_train.head()"
   ]
  },
  {
   "cell_type": "markdown",
   "metadata": {},
   "source": [
    "**Note**\n",
    "\n",
    "If the argument variables is left to None, then the encoder will automatically identify all categorical variables. Is that not sweet?\n",
    "\n",
    "The encoder will not encode numerical variables. So if some of your numerical variables are in fact categories, you will need to re-cast them as object before using the encoder.\n",
    "\n",
    "Finally, if there is a label in the test set that was not present in the train set, the encoder will through and error, to alert you of this behaviour."
   ]
  },
  {
   "cell_type": "code",
   "execution_count": 30,
   "metadata": {},
   "outputs": [
    {
     "data": {
      "text/html": [
       "<div>\n",
       "<style scoped>\n",
       "    .dataframe tbody tr th:only-of-type {\n",
       "        vertical-align: middle;\n",
       "    }\n",
       "\n",
       "    .dataframe tbody tr th {\n",
       "        vertical-align: top;\n",
       "    }\n",
       "\n",
       "    .dataframe thead th {\n",
       "        text-align: right;\n",
       "    }\n",
       "</style>\n",
       "<table border=\"1\" class=\"dataframe\">\n",
       "  <thead>\n",
       "    <tr style=\"text-align: right;\">\n",
       "      <th></th>\n",
       "      <th>cabin</th>\n",
       "      <th>sex</th>\n",
       "      <th>embarked</th>\n",
       "    </tr>\n",
       "  </thead>\n",
       "  <tbody>\n",
       "    <tr>\n",
       "      <th>501</th>\n",
       "      <td>0.276423</td>\n",
       "      <td>0.712121</td>\n",
       "      <td>0.301887</td>\n",
       "    </tr>\n",
       "    <tr>\n",
       "      <th>588</th>\n",
       "      <td>0.276423</td>\n",
       "      <td>0.193548</td>\n",
       "      <td>0.313725</td>\n",
       "    </tr>\n",
       "    <tr>\n",
       "      <th>402</th>\n",
       "      <td>0.276423</td>\n",
       "      <td>0.712121</td>\n",
       "      <td>0.313725</td>\n",
       "    </tr>\n",
       "    <tr>\n",
       "      <th>302</th>\n",
       "      <td>0.276423</td>\n",
       "      <td>0.193548</td>\n",
       "      <td>0.313725</td>\n",
       "    </tr>\n",
       "    <tr>\n",
       "      <th>686</th>\n",
       "      <td>0.276423</td>\n",
       "      <td>0.193548</td>\n",
       "      <td>0.313725</td>\n",
       "    </tr>\n",
       "  </tbody>\n",
       "</table>\n",
       "</div>"
      ],
      "text/plain": [
       "        cabin       sex  embarked\n",
       "501  0.276423  0.712121  0.301887\n",
       "588  0.276423  0.193548  0.313725\n",
       "402  0.276423  0.712121  0.313725\n",
       "302  0.276423  0.193548  0.313725\n",
       "686  0.276423  0.193548  0.313725"
      ]
     },
     "execution_count": 30,
     "metadata": {},
     "output_type": "execute_result"
    }
   ],
   "source": [
    "X_train.head(5)"
   ]
  },
  {
   "cell_type": "code",
   "execution_count": 32,
   "metadata": {},
   "outputs": [
    {
     "data": {
      "text/html": [
       "<div>\n",
       "<style scoped>\n",
       "    .dataframe tbody tr th:only-of-type {\n",
       "        vertical-align: middle;\n",
       "    }\n",
       "\n",
       "    .dataframe tbody tr th {\n",
       "        vertical-align: top;\n",
       "    }\n",
       "\n",
       "    .dataframe thead th {\n",
       "        text-align: right;\n",
       "    }\n",
       "</style>\n",
       "<table border=\"1\" class=\"dataframe\">\n",
       "  <thead>\n",
       "    <tr style=\"text-align: right;\">\n",
       "      <th></th>\n",
       "      <th>cabin</th>\n",
       "      <th>sex</th>\n",
       "      <th>embarked</th>\n",
       "      <th>survived</th>\n",
       "    </tr>\n",
       "  </thead>\n",
       "  <tbody>\n",
       "    <tr>\n",
       "      <th>501</th>\n",
       "      <td>0.276423</td>\n",
       "      <td>0.712121</td>\n",
       "      <td>0.301887</td>\n",
       "      <td>0.0</td>\n",
       "    </tr>\n",
       "    <tr>\n",
       "      <th>588</th>\n",
       "      <td>0.276423</td>\n",
       "      <td>0.193548</td>\n",
       "      <td>0.313725</td>\n",
       "      <td>0.0</td>\n",
       "    </tr>\n",
       "    <tr>\n",
       "      <th>402</th>\n",
       "      <td>0.276423</td>\n",
       "      <td>0.712121</td>\n",
       "      <td>0.313725</td>\n",
       "      <td>0.0</td>\n",
       "    </tr>\n",
       "    <tr>\n",
       "      <th>302</th>\n",
       "      <td>0.276423</td>\n",
       "      <td>0.193548</td>\n",
       "      <td>0.313725</td>\n",
       "      <td>NaN</td>\n",
       "    </tr>\n",
       "    <tr>\n",
       "      <th>686</th>\n",
       "      <td>0.276423</td>\n",
       "      <td>0.193548</td>\n",
       "      <td>0.313725</td>\n",
       "      <td>0.0</td>\n",
       "    </tr>\n",
       "  </tbody>\n",
       "</table>\n",
       "</div>"
      ],
      "text/plain": [
       "        cabin       sex  embarked  survived\n",
       "501  0.276423  0.712121  0.301887       0.0\n",
       "588  0.276423  0.193548  0.313725       0.0\n",
       "402  0.276423  0.712121  0.313725       0.0\n",
       "302  0.276423  0.193548  0.313725       NaN\n",
       "686  0.276423  0.193548  0.313725       0.0"
      ]
     },
     "execution_count": 32,
     "metadata": {},
     "output_type": "execute_result"
    }
   ],
   "source": [
    "df = pd.concat([X_train, y_train], axis=1)\n",
    "\n"
   ]
  },
  {
   "cell_type": "code",
   "execution_count": 33,
   "metadata": {},
   "outputs": [
    {
     "data": {
      "image/png": "[encoded data removed]",
      "text/plain": [
       "<Figure size 432x288 with 1 Axes>"
      ]
     },
     "metadata": {
      "needs_background": "light"
     },
     "output_type": "display_data"
    },
    {
     "data": {
      "image/png": "[encoded data removed]",
      "text/plain": [
       "<Figure size 432x288 with 1 Axes>"
      ]
     },
     "metadata": {
      "needs_background": "light"
     },
     "output_type": "display_data"
    },
    {
     "data": {
      "image/png": "[encoded data removed]",
      "text/plain": [
       "<Figure size 432x288 with 1 Axes>"
      ]
     },
     "metadata": {
      "needs_background": "light"
     },
     "output_type": "display_data"
    }
   ],
   "source": [
    "# let's inspect the newly created monotonic relationship\n",
    "# between the variables and the target\n",
    "\n",
    "for var in ['cabin', 'sex', 'embarked']:\n",
    "    \n",
    "    fig = plt.figure()\n",
    "    fig = df.groupby([var])['survived'].mean().plot()\n",
    "    fig.set_title('Monotonic relationship between {} and Survival'.format(var))\n",
    "    fig.set_ylabel('Mean Survived')\n",
    "    plt.show()"
   ]
  },
  {
   "cell_type": "code",
   "execution_count": null,
   "metadata": {},
   "outputs": [],
   "source": []
  }
 ],
 "metadata": {
  "kernelspec": {
   "display_name": "Python 3",
   "language": "python",
   "name": "python3"
  },
  "language_info": {
   "codemirror_mode": {
    "name": "ipython",
    "version": 3
   },
   "file_extension": ".py",
   "mimetype": "text/x-python",
   "name": "python",
   "nbconvert_exporter": "python",
   "pygments_lexer": "ipython3",
   "version": "3.6.8"
  },
  "toc": {
   "base_numbering": 1,
   "nav_menu": {},
   "number_sections": true,
   "sideBar": true,
   "skip_h1_title": false,
   "title_cell": "Table of Contents",
   "title_sidebar": "Contents",
   "toc_cell": false,
   "toc_position": {},
   "toc_section_display": "block",
   "toc_window_display": true
  }
 },
 "nbformat": 4,
 "nbformat_minor": 2
}
